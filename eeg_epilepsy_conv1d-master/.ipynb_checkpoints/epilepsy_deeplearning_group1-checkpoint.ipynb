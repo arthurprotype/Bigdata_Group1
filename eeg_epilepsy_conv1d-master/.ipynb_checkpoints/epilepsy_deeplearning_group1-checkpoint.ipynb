{
 "cells": [
  {
   "cell_type": "markdown",
   "metadata": {},
   "source": [
    "# Import of necesary librairies"
   ]
  },
  {
   "cell_type": "code",
   "execution_count": 13,
   "metadata": {},
   "outputs": [],
   "source": [
    "import pandas as pd\n",
    "import numpy as np\n",
    "import glob\n",
    "import matplotlib.pyplot as plt\n",
    "from sklearn.model_selection import train_test_split\n",
    "from keras.models import Sequential, Model, Input, load_model\n",
    "from keras.layers import Input, Dense, Dropout, concatenate\n",
    "from keras.layers import Embedding, Activation, Flatten\n",
    "from keras.layers import Conv1D, GlobalAveragePooling1D, MaxPooling1D, BatchNormalization, LSTM, SpatialDropout1D, GRU,Softmax\n",
    "from keras.utils import to_categorical\n",
    "from keras import optimizers\n",
    "from sklearn.model_selection import StratifiedKFold\n",
    "import time"
   ]
  },
  {
   "cell_type": "code",
   "execution_count": null,
   "metadata": {},
   "outputs": [],
   "source": [
    "# 对分类变量进行独热编码\n",
    "label_dic = {\n",
    "    'normal': (1, 0, 0),\n",
    "    'inter': (0, 1, 0),\n",
    "    'ictal': (0, 0, 1),\n",
    "}\n",
    "\n",
    "# 读取目标文件夹中的所有文件\n",
    "def folder_to_df(letter):\n",
    "    full_path =\"EEG_data/\"+ letter + \"/*.*\"\n",
    "    files = glob.glob (full_path)\n",
    "    df_list = []\n",
    "    for file in files:\n",
    "        df_list.append (pd.read_csv (file, header = None))\n",
    "    big_df = pd.concat (df_list, ignore_index=True, axis= 1)\n",
    "\n",
    "    return big_df.T\n",
    "\n",
    "# 窗口切割，窗口大小为256，步长为128\n",
    "def window (a, w = 256, o = 128):\n",
    "    view = []\n",
    "    for i in range (0, a.shape[0] - w, o):\n",
    "        sub = a[i:i+w]\n",
    "        \"\"\"\n",
    "        MinMax = np.ptp (sub)\n",
    "        sub = (sub - np.mean (sub)) / np.std (sub)\n",
    "        sub = list (sub)\n",
    "        sub.append (MinMax)\n",
    "        \"\"\"\n",
    "        view += [sub]\n",
    "    \n",
    "    return view.copy()\n",
    "\n",
    "# 数据扩充\n",
    "def enrich_data (df): \n",
    "    res = []\n",
    "    for i in range (df.shape[0]):\n",
    "        res += [window (df.iloc[i].values)]\n",
    "    return res\n",
    "\n",
    "# 读取所有的文件夹\n",
    "def load_data_as_df():\n",
    "    A = folder_to_df(\"Z\")\n",
    "    B = folder_to_df(\"O\")\n",
    "    C = folder_to_df(\"N\")\n",
    "    D = folder_to_df(\"F\")\n",
    "    E = folder_to_df(\"S\")\n",
    "    \n",
    "    normal = A.append (B).reset_index(drop = True)\n",
    "    interictal = C.append (D).reset_index(drop = True)\n",
    "    ictal = E\n",
    "\n",
    "    return normal, interictal, ictal\n",
    "\n",
    "# 数据扩充\n",
    "def format_enrich_data(normal, interictal, ictal):\n",
    "    \n",
    "    # 对扩充后的数据集进行维度转换\n",
    "    normal_data_enr = np.asarray (enrich_data(normal)).reshape(-1, np.asarray(enrich_data(normal)).shape[-1])\n",
    "    interictal_data_enr = np.asarray (enrich_data(interictal)).reshape(-1, np.asarray(enrich_data(interictal)).shape[-1])\n",
    "    ictal_data_enr = np.asarray (enrich_data(ictal)).reshape(-1, np.asarray(enrich_data(ictal)).shape[-1])\n",
    "\n",
    "    # 更换数据形式\n",
    "    normal_data_enr_df = pd.DataFrame(normal_data_enr)\n",
    "    interictal_data_enr_df = pd.DataFrame(interictal_data_enr)\n",
    "    ictal_data_enr_df = pd.DataFrame(ictal_data_enr)\n",
    "    \n",
    "    # 打标签\n",
    "    normal_data_enr_lab = pd.DataFrame ([label_dic[\"normal\"] for _ in range (normal_data_enr.shape[0])])\n",
    "    interictal_data_enr_lab = pd.DataFrame ([label_dic[\"inter\"] for _ in range (interictal_data_enr.shape[0])])\n",
    "    ictal_data_enr_lab = pd.DataFrame ([label_dic[\"ictal\"] for _ in range (ictal_data_enr.shape[0])])\n",
    "\n",
    "    # 拼接并划分出数据与标签\n",
    "    data = pd.concat([normal_data_enr_df, interictal_data_enr_df, ictal_data_enr_df], ignore_index = True)\n",
    "    labels = pd.concat([normal_data_enr_lab, interictal_data_enr_lab, ictal_data_enr_lab], ignore_index = True)\n",
    "    \n",
    "    return data.values, labels.values\n",
    "\n",
    "# 转换为与循环神经网络相适应的数据格式\n",
    "def rnn_transform (raw_dat, frame_size = 1):\n",
    "    if raw_dat.shape[1] % frame_size == 0:\n",
    "        return raw_dat.reshape (raw_dat.shape[0], -1, frame_size)\n",
    "    else:\n",
    "        print (\"error frame_size\")\n",
    "        exit (1)\n"
   ]
  },
  {
   "cell_type": "markdown",
   "metadata": {},
   "source": [
    "# 将数据集Split into 80%/20%, keeping the 20% for the testing of the majority voting later "
   ]
  },
  {
   "cell_type": "code",
   "execution_count": 5,
   "metadata": {},
   "outputs": [
    {
     "name": "stdout",
     "output_type": "stream",
     "text": [
      "(180, 4097)\n"
     ]
    }
   ],
   "source": [
    "normal, interictal, ictal = load_data_as_df()\n",
    "\n",
    "normal_train, normal_test = train_test_split(normal, test_size = 0.2)\n",
    "interictal_train, interictal_test = train_test_split(interictal, test_size = 0.2)\n",
    "ictal_train, ictal_test = train_test_split(ictal, test_size = 0.2)\n",
    "\n",
    "X_train, y_train = format_enrich_data (normal_train, interictal_train, ictal_train)\n",
    "X_test, y_test = format_enrich_data (normal_test, interictal_test, ictal_test)"
   ]
  },
  {
   "cell_type": "markdown",
   "metadata": {},
   "source": [
    "# Enriching the data as per Scheme 1 in the paper\n",
    "\n",
    "### window sliding with a stride of 64 and length of 512, as well as adding labels and format into the correct shape for the model"
   ]
  },
  {
   "cell_type": "code",
   "execution_count": 6,
   "metadata": {},
   "outputs": [],
   "source": [
    "def format_enrich_train(normal, interictal, ictal):\n",
    "    \n",
    "    #enrich data and reshape it to have a two dimensional array instead of three\n",
    "    normal_train_enr = np.asarray(enrich_train(normal)).reshape(-1, np.asarray(enrich_train(normal)).shape[-1])\n",
    "    interictal_train_enr = np.asarray(enrich_train(interictal)).reshape(-1, np.asarray(enrich_train(interictal)).shape[-1])\n",
    "    ictal_train_enr = np.asarray(enrich_train(ictal)).reshape(-1, np.asarray(enrich_train(ictal)).shape[-1])\n",
    "\n",
    "    #change into a dataframe to add labels easily\n",
    "    normal_train_enr_df = pd.DataFrame(normal_train_enr)\n",
    "    interictal_train_enr_df = pd.DataFrame(interictal_train_enr)\n",
    "    ictal_train_enr_df = pd.DataFrame(ictal_train_enr)\n",
    "    \n",
    "    normal_train_enr_df['labels'] = 0 # normal\n",
    "    interictal_train_enr_df['labels'] = 1 #interictal\n",
    "    ictal_train_enr_df['labels'] = 2 #ictal\n",
    "\n",
    "    #concat all\n",
    "    data_labels = pd.concat([normal_train_enr_df, interictal_train_enr_df, ictal_train_enr_df], ignore_index = True)\n",
    "    \n",
    "\n",
    "    #separates data and labels into numpy arrays for keras\n",
    "    data = data_labels.drop('labels', axis = 1).values\n",
    "    labels = data_labels.labels.values\n",
    "    \n",
    "    #labels = np.expand_dims(labels, axis=1)\n",
    "    \n",
    "    return data, labels"
   ]
  },
  {
   "cell_type": "code",
   "execution_count": 29,
   "metadata": {},
   "outputs": [],
   "source": [
    "def create_model():\n",
    "#BiLSTM"
   ]
  },
  {
   "cell_type": "code",
   "execution_count": 46,
   "metadata": {},
   "outputs": [],
   "source": [
    "X_test, y_test = format_enrich_train(normal_vote, interictal_vote, ictal_vote)\n",
    "y_test = to_categorical(y_test, num_classes=3, dtype='float32')\n",
    "X_test = reshape_x(X_test)\n",
    "def train_evaluate_model(model, xtrain, ytrain, xval, yval, fold):\n",
    "    model_name = 'BiLSTM'\n",
    "    checkpointer = ModelCheckpoint(filepath='checkpoints/'+'fold'+ str(fold)+'.'+model_name + '.{epoch:03d}-{accuracy:.3f}.h5',verbose=0,monitor ='acc', save_best_only=True)\n",
    "    history = model.fit(xtrain, ytrain, validation_data=(X_test,y_test),batch_size=32, callbacks = [checkpointer],epochs=20, verbose = 1)\n",
    "    print(history)\n",
    "    score = model.evaluate(xval, yval, batch_size=32)\n",
    "    print('\\n')\n",
    "    print(score)\n",
    "    return score, history"
   ]
  },
  {
   "cell_type": "code",
   "execution_count": 49,
   "metadata": {
    "scrolled": true
   },
   "outputs": [
    {
     "name": "stdout",
     "output_type": "stream",
     "text": [
      "Running Fold 1 / 2\n",
      "model_8 initialized.\n",
      "Epoch 1/20\n",
      "401/401 [==============================] - ETA: 0s - loss: 1.5637 - accuracy: 0.3802WARNING:tensorflow:Can save best model only with acc available, skipping.\n",
      "401/401 [==============================] - 156s 388ms/step - loss: 1.5637 - accuracy: 0.3802 - val_loss: 1.4154 - val_accuracy: 0.4919\n",
      "Epoch 2/20\n",
      "401/401 [==============================] - ETA: 0s - loss: 1.4899 - accuracy: 0.4432WARNING:tensorflow:Can save best model only with acc available, skipping.\n",
      "401/401 [==============================] - 156s 388ms/step - loss: 1.4899 - accuracy: 0.4432 - val_loss: 1.3207 - val_accuracy: 0.5877\n",
      "Epoch 3/20\n",
      "401/401 [==============================] - ETA: 0s - loss: 1.4387 - accuracy: 0.4862WARNING:tensorflow:Can save best model only with acc available, skipping.\n",
      "401/401 [==============================] - 159s 397ms/step - loss: 1.4387 - accuracy: 0.4862 - val_loss: 1.2615 - val_accuracy: 0.6267\n",
      "Epoch 4/20\n",
      "401/401 [==============================] - ETA: 0s - loss: 1.3917 - accuracy: 0.5269WARNING:tensorflow:Can save best model only with acc available, skipping.\n",
      "401/401 [==============================] - 153s 382ms/step - loss: 1.3917 - accuracy: 0.5269 - val_loss: 1.2092 - val_accuracy: 0.6495\n",
      "Epoch 5/20\n",
      "401/401 [==============================] - ETA: 0s - loss: 1.3459 - accuracy: 0.5526WARNING:tensorflow:Can save best model only with acc available, skipping.\n",
      "401/401 [==============================] - 157s 392ms/step - loss: 1.3459 - accuracy: 0.5526 - val_loss: 1.1477 - val_accuracy: 0.6695\n",
      "Epoch 6/20\n",
      "401/401 [==============================] - ETA: 0s - loss: 1.2947 - accuracy: 0.5854WARNING:tensorflow:Can save best model only with acc available, skipping.\n",
      "401/401 [==============================] - 154s 385ms/step - loss: 1.2947 - accuracy: 0.5854 - val_loss: 1.0916 - val_accuracy: 0.7007\n",
      "Epoch 7/20\n",
      "401/401 [==============================] - ETA: 0s - loss: 1.2385 - accuracy: 0.6129WARNING:tensorflow:Can save best model only with acc available, skipping.\n",
      "401/401 [==============================] - 159s 396ms/step - loss: 1.2385 - accuracy: 0.6129 - val_loss: 1.0668 - val_accuracy: 0.7074\n",
      "Epoch 8/20\n",
      "401/401 [==============================] - ETA: 0s - loss: 1.1969 - accuracy: 0.6335WARNING:tensorflow:Can save best model only with acc available, skipping.\n",
      "401/401 [==============================] - 184s 459ms/step - loss: 1.1969 - accuracy: 0.6335 - val_loss: 1.0132 - val_accuracy: 0.7186\n",
      "Epoch 9/20\n",
      "401/401 [==============================] - ETA: 0s - loss: 1.1642 - accuracy: 0.6452WARNING:tensorflow:Can save best model only with acc available, skipping.\n",
      "401/401 [==============================] - 251s 626ms/step - loss: 1.1642 - accuracy: 0.6452 - val_loss: 0.9445 - val_accuracy: 0.7404\n",
      "Epoch 10/20\n",
      "401/401 [==============================] - ETA: 0s - loss: 1.1329 - accuracy: 0.6542WARNING:tensorflow:Can save best model only with acc available, skipping.\n",
      "401/401 [==============================] - 345s 860ms/step - loss: 1.1329 - accuracy: 0.6542 - val_loss: 0.9110 - val_accuracy: 0.7523\n",
      "Epoch 11/20\n",
      "401/401 [==============================] - ETA: 0s - loss: 1.1027 - accuracy: 0.6640WARNING:tensorflow:Can save best model only with acc available, skipping.\n",
      "401/401 [==============================] - 399s 995ms/step - loss: 1.1027 - accuracy: 0.6640 - val_loss: 0.8402 - val_accuracy: 0.7789\n",
      "Epoch 12/20\n",
      "401/401 [==============================] - ETA: 0s - loss: 1.0705 - accuracy: 0.6793WARNING:tensorflow:Can save best model only with acc available, skipping.\n",
      "401/401 [==============================] - 395s 984ms/step - loss: 1.0705 - accuracy: 0.6793 - val_loss: 0.7880 - val_accuracy: 0.8014\n",
      "Epoch 13/20\n",
      "401/401 [==============================] - ETA: 0s - loss: 1.0427 - accuracy: 0.6881WARNING:tensorflow:Can save best model only with acc available, skipping.\n",
      "401/401 [==============================] - 408s 1s/step - loss: 1.0427 - accuracy: 0.6881 - val_loss: 0.7431 - val_accuracy: 0.8232\n",
      "Epoch 14/20\n",
      "401/401 [==============================] - ETA: 0s - loss: 1.0231 - accuracy: 0.6965WARNING:tensorflow:Can save best model only with acc available, skipping.\n",
      "401/401 [==============================] - 276s 688ms/step - loss: 1.0231 - accuracy: 0.6965 - val_loss: 0.7044 - val_accuracy: 0.8400\n",
      "Epoch 15/20\n",
      "401/401 [==============================] - ETA: 0s - loss: 0.9932 - accuracy: 0.7054WARNING:tensorflow:Can save best model only with acc available, skipping.\n",
      "401/401 [==============================] - 158s 394ms/step - loss: 0.9932 - accuracy: 0.7054 - val_loss: 0.6746 - val_accuracy: 0.8495\n",
      "Epoch 16/20\n",
      "401/401 [==============================] - ETA: 0s - loss: 0.9743 - accuracy: 0.7130WARNING:tensorflow:Can save best model only with acc available, skipping.\n",
      "401/401 [==============================] - 165s 411ms/step - loss: 0.9743 - accuracy: 0.7130 - val_loss: 0.6446 - val_accuracy: 0.8568\n",
      "Epoch 17/20\n",
      "401/401 [==============================] - ETA: 0s - loss: 0.9534 - accuracy: 0.7196WARNING:tensorflow:Can save best model only with acc available, skipping.\n",
      "401/401 [==============================] - 153s 380ms/step - loss: 0.9534 - accuracy: 0.7196 - val_loss: 0.6120 - val_accuracy: 0.8751\n",
      "Epoch 18/20\n",
      "401/401 [==============================] - ETA: 0s - loss: 0.9390 - accuracy: 0.7236WARNING:tensorflow:Can save best model only with acc available, skipping.\n",
      "401/401 [==============================] - 157s 390ms/step - loss: 0.9390 - accuracy: 0.7236 - val_loss: 0.5906 - val_accuracy: 0.8782\n",
      "Epoch 19/20\n",
      "401/401 [==============================] - ETA: 0s - loss: 0.9134 - accuracy: 0.7356WARNING:tensorflow:Can save best model only with acc available, skipping.\n",
      "401/401 [==============================] - 153s 381ms/step - loss: 0.9134 - accuracy: 0.7356 - val_loss: 0.5679 - val_accuracy: 0.8863\n",
      "Epoch 20/20\n",
      "401/401 [==============================] - ETA: 0s - loss: 0.9034 - accuracy: 0.7360WARNING:tensorflow:Can save best model only with acc available, skipping.\n",
      "401/401 [==============================] - 152s 378ms/step - loss: 0.9034 - accuracy: 0.7360 - val_loss: 0.5575 - val_accuracy: 0.8863\n",
      "<tensorflow.python.keras.callbacks.History object at 0x0000012FB5D92880>\n",
      "401/401 [==============================] - 19s 48ms/step - loss: 0.8788 - accuracy: 0.7714\n",
      "\n",
      "\n",
      "[0.8787936568260193, 0.7713840007781982]\n",
      "Ran  1 / 2 Fold in 4335.255389928818 seconds ---\n",
      "Running Fold 2 / 2\n",
      "model_9 initialized.\n",
      "Epoch 1/20\n",
      "401/401 [==============================] - ETA: 0s - loss: 1.5527 - accuracy: 0.3674WARNING:tensorflow:Can save best model only with acc available, skipping.\n",
      "401/401 [==============================] - 143s 356ms/step - loss: 1.5527 - accuracy: 0.3674 - val_loss: 1.3713 - val_accuracy: 0.5828\n",
      "Epoch 2/20\n",
      "401/401 [==============================] - ETA: 0s - loss: 1.4694 - accuracy: 0.4580WARNING:tensorflow:Can save best model only with acc available, skipping.\n",
      "401/401 [==============================] - 144s 360ms/step - loss: 1.4694 - accuracy: 0.4580 - val_loss: 1.2374 - val_accuracy: 0.6340\n",
      "Epoch 3/20\n",
      "401/401 [==============================] - ETA: 0s - loss: 1.3978 - accuracy: 0.5340WARNING:tensorflow:Can save best model only with acc available, skipping.\n",
      "401/401 [==============================] - 144s 358ms/step - loss: 1.3978 - accuracy: 0.5340 - val_loss: 1.1472 - val_accuracy: 0.6888\n",
      "Epoch 4/20\n",
      "401/401 [==============================] - ETA: 0s - loss: 1.3287 - accuracy: 0.5782WARNING:tensorflow:Can save best model only with acc available, skipping.\n",
      "401/401 [==============================] - 143s 355ms/step - loss: 1.3287 - accuracy: 0.5782 - val_loss: 1.0634 - val_accuracy: 0.7312\n",
      "Epoch 5/20\n",
      "401/401 [==============================] - ETA: 0s - loss: 1.2578 - accuracy: 0.6179WARNING:tensorflow:Can save best model only with acc available, skipping.\n",
      "401/401 [==============================] - 142s 355ms/step - loss: 1.2578 - accuracy: 0.6179 - val_loss: 1.0302 - val_accuracy: 0.7361\n",
      "Epoch 6/20\n",
      "401/401 [==============================] - ETA: 0s - loss: 1.1989 - accuracy: 0.6471WARNING:tensorflow:Can save best model only with acc available, skipping.\n",
      "401/401 [==============================] - 143s 355ms/step - loss: 1.1989 - accuracy: 0.6471 - val_loss: 0.9933 - val_accuracy: 0.7509\n"
     ]
    },
    {
     "name": "stdout",
     "output_type": "stream",
     "text": [
      "Epoch 7/20\n",
      "401/401 [==============================] - ETA: 0s - loss: 1.1546 - accuracy: 0.6628WARNING:tensorflow:Can save best model only with acc available, skipping.\n",
      "401/401 [==============================] - 142s 355ms/step - loss: 1.1546 - accuracy: 0.6628 - val_loss: 0.9491 - val_accuracy: 0.7600\n",
      "Epoch 8/20\n",
      "401/401 [==============================] - ETA: 0s - loss: 1.1225 - accuracy: 0.6729WARNING:tensorflow:Can save best model only with acc available, skipping.\n",
      "401/401 [==============================] - 143s 355ms/step - loss: 1.1225 - accuracy: 0.6729 - val_loss: 0.9065 - val_accuracy: 0.7733\n",
      "Epoch 9/20\n",
      "401/401 [==============================] - ETA: 0s - loss: 1.0953 - accuracy: 0.6797 WARNING:tensorflow:Can save best model only with acc available, skipping.\n",
      "401/401 [==============================] - 20504s 51s/step - loss: 1.0953 - accuracy: 0.6797 - val_loss: 0.8713 - val_accuracy: 0.7849\n",
      "Epoch 10/20\n",
      "401/401 [==============================] - ETA: 0s - loss: 1.0658 - accuracy: 0.6897WARNING:tensorflow:Can save best model only with acc available, skipping.\n",
      "401/401 [==============================] - 127s 316ms/step - loss: 1.0658 - accuracy: 0.6897 - val_loss: 0.8375 - val_accuracy: 0.7919\n",
      "Epoch 11/20\n",
      "401/401 [==============================] - ETA: 0s - loss: 1.0396 - accuracy: 0.6975WARNING:tensorflow:Can save best model only with acc available, skipping.\n",
      "401/401 [==============================] - 145s 361ms/step - loss: 1.0396 - accuracy: 0.6975 - val_loss: 0.8120 - val_accuracy: 0.7961\n",
      "Epoch 12/20\n",
      "401/401 [==============================] - ETA: 0s - loss: 1.0192 - accuracy: 0.7039WARNING:tensorflow:Can save best model only with acc available, skipping.\n",
      "401/401 [==============================] - 141s 353ms/step - loss: 1.0192 - accuracy: 0.7039 - val_loss: 0.7880 - val_accuracy: 0.8025\n",
      "Epoch 13/20\n",
      "401/401 [==============================] - ETA: 0s - loss: 0.9935 - accuracy: 0.7091WARNING:tensorflow:Can save best model only with acc available, skipping.\n",
      "401/401 [==============================] - 146s 363ms/step - loss: 0.9935 - accuracy: 0.7091 - val_loss: 0.7559 - val_accuracy: 0.8158\n",
      "Epoch 14/20\n",
      "401/401 [==============================] - ETA: 0s - loss: 0.9661 - accuracy: 0.7156WARNING:tensorflow:Can save best model only with acc available, skipping.\n",
      "401/401 [==============================] - 143s 356ms/step - loss: 0.9661 - accuracy: 0.7156 - val_loss: 0.7244 - val_accuracy: 0.8288\n",
      "Epoch 15/20\n",
      "401/401 [==============================] - ETA: 0s - loss: 0.9529 - accuracy: 0.7227WARNING:tensorflow:Can save best model only with acc available, skipping.\n",
      "401/401 [==============================] - 143s 356ms/step - loss: 0.9529 - accuracy: 0.7227 - val_loss: 0.6897 - val_accuracy: 0.8358\n",
      "Epoch 16/20\n",
      "401/401 [==============================] - ETA: 0s - loss: 0.9387 - accuracy: 0.7261WARNING:tensorflow:Can save best model only with acc available, skipping.\n",
      "401/401 [==============================] - 142s 354ms/step - loss: 0.9387 - accuracy: 0.7261 - val_loss: 0.6590 - val_accuracy: 0.8470\n",
      "Epoch 17/20\n",
      "401/401 [==============================] - ETA: 0s - loss: 0.9184 - accuracy: 0.7326WARNING:tensorflow:Can save best model only with acc available, skipping.\n",
      "401/401 [==============================] - 145s 362ms/step - loss: 0.9184 - accuracy: 0.7326 - val_loss: 0.6275 - val_accuracy: 0.8600\n",
      "Epoch 18/20\n",
      "401/401 [==============================] - ETA: 0s - loss: 0.8990 - accuracy: 0.7379WARNING:tensorflow:Can save best model only with acc available, skipping.\n",
      "401/401 [==============================] - 143s 355ms/step - loss: 0.8990 - accuracy: 0.7379 - val_loss: 0.5941 - val_accuracy: 0.8726\n",
      "Epoch 19/20\n",
      "401/401 [==============================] - ETA: 0s - loss: 0.8794 - accuracy: 0.7464WARNING:tensorflow:Can save best model only with acc available, skipping.\n",
      "401/401 [==============================] - 142s 354ms/step - loss: 0.8794 - accuracy: 0.7464 - val_loss: 0.5784 - val_accuracy: 0.8747\n",
      "Epoch 20/20\n",
      "401/401 [==============================] - ETA: 0s - loss: 0.8740 - accuracy: 0.7438WARNING:tensorflow:Can save best model only with acc available, skipping.\n",
      "401/401 [==============================] - 142s 354ms/step - loss: 0.8740 - accuracy: 0.7438 - val_loss: 0.5485 - val_accuracy: 0.8881\n",
      "<tensorflow.python.keras.callbacks.History object at 0x00000130280538E0>\n",
      "401/401 [==============================] - 19s 47ms/step - loss: 0.8423 - accuracy: 0.7694\n",
      "\n",
      "\n",
      "[0.8423406481742859, 0.7694346904754639]\n",
      "Ran  2 / 2 Fold in 23252.721190690994 seconds ---\n"
     ]
    }
   ],
   "source": [
    "#BiLSTM训练代码"
   ]
  },
  {
   "cell_type": "code",
   "execution_count": 51,
   "metadata": {},
   "outputs": [
    {
     "name": "stdout",
     "output_type": "stream",
     "text": [
      "acc: 0.8881\n",
      "sen: 0.4825\n",
      "recall: 0.9964\n"
     ]
    }
   ],
   "source": [
    "loss,accuracy = model.evaluate(X_test,y_test)\n",
    "result = model.predict (reshape_x(X_test))\n",
    "test_num = result.shape[0]\n",
    "result_sort = np.argsort (result, axis=1)\n",
    "right, ictal_r, pre_ictal, ictal_n = 0, 0, 0, 0\n",
    "for i in range (test_num):\n",
    "    if result_sort[i][-1] == 2:\n",
    "        pre_ictal += 1\n",
    "        if result_sort[i][-1] == list (y_test[i]).index (1):\n",
    "            ictal_r += 1\n",
    "    if list (y_test[i]).index (1) == 2:\n",
    "        ictal_n += 1\n",
    "    if result_sort[i][-1] == list (y_test[i]).index (1):\n",
    "        right += 1\n",
    "print('loss：',loss)\n",
    "print (\"acc: %.4f\" % (right / test_num))\n",
    "print (\"sen: %.4f\" % (ictal_r / ictal_n))\n",
    "print (\"recall: %.4f\" % (ictal_r / pre_ictal))"
   ]
  },
  {
   "cell_type": "markdown",
   "metadata": {},
   "source": [
    "# Evaluation"
   ]
  },
  {
   "cell_type": "code",
   "execution_count": 52,
   "metadata": {},
   "outputs": [
    {
     "name": "stderr",
     "output_type": "stream",
     "text": [
      "c:\\users\\77485\\appdata\\local\\programs\\python\\python38\\lib\\site-packages\\tensorflow\\python\\keras\\utils\\conv_utils.py:233: FutureWarning: Using a non-tuple sequence for multidimensional indexing is deprecated; use `arr[tuple(seq)]` instead of `arr[seq]`. In the future this will be interpreted as an array index, `arr[np.array(seq)]`, which will result either in an error or a different result.\n",
      "  return np.copy(kernel[slices])\n"
     ]
    },
    {
     "data": {
      "image/png": "[encoded data removed]",
      "text/plain": [
       "<Figure size 432x288 with 1 Axes>"
      ]
     },
     "metadata": {
      "needs_background": "light"
     },
     "output_type": "display_data"
    },
    {
     "name": "stdout",
     "output_type": "stream",
     "text": [
      "The highest validation accuracy is 0.8881\n"
     ]
    },
    {
     "data": {
      "image/png": "[encoded data removed]",
      "text/plain": [
       "<Figure size 432x288 with 1 Axes>"
      ]
     },
     "metadata": {
      "needs_background": "light"
     },
     "output_type": "display_data"
    },
    {
     "name": "stdout",
     "output_type": "stream",
     "text": [
      "The lowest validation loss is 0.5485\n"
     ]
    }
   ],
   "source": [
    "best_model = load_model('best_model.0.966.h5')\n",
    "\n",
    "def plot_accuracy(epoch, val_accuracy, accuracy):\n",
    "    best_epoch = 0\n",
    "    max_accuracy = 0\n",
    "    for i in range(len(epoch)):\n",
    "        if val_accuracy[i] > max_accuracy:\n",
    "            max_accuracy = val_accuracy[i]\n",
    "            best_epoch = i\n",
    "    plt.plot(epoch, val_accuracy, label='Validation')\n",
    "    plt.plot(epoch, accuracy, label='Training')\n",
    "    plt.axvline(x=epoch[best_epoch], color=\"r\", ls=\"--\", label='Best Epoch')\n",
    "    plt.legend()\n",
    "    # plt.ylim(0.4, 1)\n",
    "    plt.xlabel('Epoch')\n",
    "    plt.ylabel('Accuracy')\n",
    "    plt.title('Accuracy of prediction results')\n",
    "    plt.text(best_epoch, max_accuracy + 0.01, '%.4f' %max_accuracy, ha='center', va='bottom', fontsize=12)\n",
    "    plt.show()\n",
    "    print(\"The highest validation accuracy is %.4f\" % max_accuracy)\n",
    "\n",
    "def plot_loss(epoch, val_loss, loss):\n",
    "    best_epoch = 0\n",
    "    min_loss = 1\n",
    "    for i in range(len(epoch)):\n",
    "        if val_loss[i] < min_loss:\n",
    "            min_loss = val_loss[i]\n",
    "            best_epoch = i\n",
    "    plt.plot(epoch, val_loss, label='Validation')\n",
    "    plt.plot(epoch, loss, label='Training')\n",
    "    plt.axvline(x=epoch[best_epoch], color=\"r\", ls=\"--\", label='Best Epoch')\n",
    "    plt.legend()\n",
    "    # plt.ylim(0, 1.2)\n",
    "    plt.xlabel('Epoch')\n",
    "    plt.ylabel('Loss')\n",
    "    plt.title('Loss of prediction results')\n",
    "    plt.text(best_epoch, min_loss+0.1, '%.4f' % min_loss, ha='center', va='bottom', fontsize=12)\n",
    "    plt.show()\n",
    "    print(\"The lowest validation loss is %.4f\" % min_loss)\n",
    "\n",
    "plot_accuracy(history.epoch, history.history['val_accuracy'], history.history['accuracy'])\n",
    "plot_loss(history.epoch, history.history['val_loss'], history.history['loss'])"
   ]
  }
 ],
 "metadata": {
  "kernelspec": {
   "display_name": "Python 3",
   "language": "python",
   "name": "python3"
  },
  "language_info": {
   "codemirror_mode": {
    "name": "ipython",
    "version": 3
   },
   "file_extension": ".py",
   "mimetype": "text/x-python",
   "name": "python",
   "nbconvert_exporter": "python",
   "pygments_lexer": "ipython3",
   "version": "3.8.2"
  }
 },
 "nbformat": 4,
 "nbformat_minor": 2
}
