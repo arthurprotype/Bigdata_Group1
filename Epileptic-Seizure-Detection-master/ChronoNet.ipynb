{
 "cells": [
  {
   "cell_type": "code",
   "execution_count": 9,
   "metadata": {},
   "outputs": [
    {
     "ename": "ValueError",
     "evalue": "numpy.ndarray size changed, may indicate binary incompatibility. Expected 88 from C header, got 80 from PyObject",
     "output_type": "error",
     "traceback": [
      "\u001b[1;31m---------------------------------------------------------------------------\u001b[0m",
      "\u001b[1;31mValueError\u001b[0m                                Traceback (most recent call last)",
      "\u001b[1;32m<ipython-input-9-c732e96a7108>\u001b[0m in \u001b[0;36m<module>\u001b[1;34m\u001b[0m\n\u001b[0;32m      1\u001b[0m \u001b[1;32mimport\u001b[0m \u001b[0mmne\u001b[0m\u001b[1;33m\u001b[0m\u001b[1;33m\u001b[0m\u001b[0m\n\u001b[0;32m      2\u001b[0m \u001b[1;32mimport\u001b[0m \u001b[0mnumpy\u001b[0m \u001b[1;32mas\u001b[0m \u001b[0mnp\u001b[0m\u001b[1;33m\u001b[0m\u001b[1;33m\u001b[0m\u001b[0m\n\u001b[1;32m----> 3\u001b[1;33m \u001b[1;32mimport\u001b[0m \u001b[0mpyedflib\u001b[0m\u001b[1;33m\u001b[0m\u001b[1;33m\u001b[0m\u001b[0m\n\u001b[0m\u001b[0;32m      4\u001b[0m \u001b[1;32mimport\u001b[0m \u001b[0mtorch\u001b[0m\u001b[1;33m\u001b[0m\u001b[1;33m\u001b[0m\u001b[0m\n\u001b[0;32m      5\u001b[0m \u001b[1;32mimport\u001b[0m \u001b[0mtorch\u001b[0m\u001b[1;33m.\u001b[0m\u001b[0mnn\u001b[0m \u001b[1;32mas\u001b[0m \u001b[0mnn\u001b[0m\u001b[1;33m\u001b[0m\u001b[1;33m\u001b[0m\u001b[0m\n",
      "\u001b[1;32mc:\\users\\77485\\appdata\\local\\programs\\python\\python38\\lib\\site-packages\\pyedflib\\__init__.py\u001b[0m in \u001b[0;36m<module>\u001b[1;34m\u001b[0m\n\u001b[0;32m      9\u001b[0m \u001b[1;32mfrom\u001b[0m \u001b[0m__future__\u001b[0m \u001b[1;32mimport\u001b[0m \u001b[0mdivision\u001b[0m\u001b[1;33m,\u001b[0m \u001b[0mprint_function\u001b[0m\u001b[1;33m,\u001b[0m \u001b[0mabsolute_import\u001b[0m\u001b[1;33m\u001b[0m\u001b[1;33m\u001b[0m\u001b[0m\n\u001b[0;32m     10\u001b[0m \u001b[1;33m\u001b[0m\u001b[0m\n\u001b[1;32m---> 11\u001b[1;33m \u001b[1;32mfrom\u001b[0m \u001b[1;33m.\u001b[0m\u001b[0m_extensions\u001b[0m\u001b[1;33m.\u001b[0m\u001b[0m_pyedflib\u001b[0m \u001b[1;32mimport\u001b[0m \u001b[1;33m*\u001b[0m\u001b[1;33m\u001b[0m\u001b[1;33m\u001b[0m\u001b[0m\n\u001b[0m\u001b[0;32m     12\u001b[0m \u001b[1;32mfrom\u001b[0m \u001b[1;33m.\u001b[0m\u001b[0medfwriter\u001b[0m \u001b[1;32mimport\u001b[0m \u001b[1;33m*\u001b[0m\u001b[1;33m\u001b[0m\u001b[1;33m\u001b[0m\u001b[0m\n\u001b[0;32m     13\u001b[0m \u001b[1;32mfrom\u001b[0m \u001b[1;33m.\u001b[0m\u001b[0medfreader\u001b[0m \u001b[1;32mimport\u001b[0m \u001b[1;33m*\u001b[0m\u001b[1;33m\u001b[0m\u001b[1;33m\u001b[0m\u001b[0m\n",
      "\u001b[1;32mpyedflib\\_extensions\\_pyedflib.pyx\u001b[0m in \u001b[0;36minit pyedflib._extensions._pyedflib\u001b[1;34m()\u001b[0m\n",
      "\u001b[1;31mValueError\u001b[0m: numpy.ndarray size changed, may indicate binary incompatibility. Expected 88 from C header, got 80 from PyObject"
     ]
    }
   ],
   "source": [
    "import mne\n",
    "import numpy as np\n",
    "import pyedflib\n",
    "import torch\n",
    "import torch.nn as nn\n",
    "import torch.nn.functional as F\n",
    "from torch.autograd import Variable\n",
    "\n",
    "from IPython.display import Image\n",
    "from IPython.core.display import HTML \n"
   ]
  },
  {
   "cell_type": "code",
   "execution_count": null,
   "metadata": {},
   "outputs": [],
   "source": [
    "Image(filename = \"../Electrode-placements-of-32-channels-according-to-the-international-10-20-system.jpeg\", width=500, height=500)"
   ]
  },
  {
   "cell_type": "code",
   "execution_count": null,
   "metadata": {},
   "outputs": [],
   "source": [
    "filename = \"../train/01_tcp_ar/00000005/s03_2010_10_02/00000005_s03_a00.edf\"\n",
    "f = pyedflib.EdfReader(filename)"
   ]
  },
  {
   "cell_type": "code",
   "execution_count": null,
   "metadata": {},
   "outputs": [],
   "source": [
    "n = f.signals_in_file\n",
    "signal_labels = f.getSignalLabels()"
   ]
  },
  {
   "cell_type": "code",
   "execution_count": null,
   "metadata": {},
   "outputs": [],
   "source": [
    "dict(zip(np.arange(0, len(signal_labels)), signal_labels))\n",
    "\n",
    "#We see that all the the system is based on a single reference electrode.\n"
   ]
  },
  {
   "cell_type": "code",
   "execution_count": null,
   "metadata": {},
   "outputs": [],
   "source": [
    "sigbufs = np.zeros((n-3, f.getNSamples()[0]))\n",
    "print(sigbufs.shape)\n",
    "for i in np.arange(n-3):\n",
    "    sigbufs[i, :] = f.readSignal(i)"
   ]
  },
  {
   "cell_type": "code",
   "execution_count": null,
   "metadata": {},
   "outputs": [],
   "source": [
    "import matplotlib.pyplot as plt\n",
    "\n",
    "%matplotlib inline"
   ]
  },
  {
   "cell_type": "code",
   "execution_count": null,
   "metadata": {},
   "outputs": [],
   "source": [
    "plt.figure(figsize=(12, 12))\n",
    "for i in range(n-3):\n",
    "    plt.plot(np.arange(1, sigbufs.shape[1]+1), sigbufs[i])"
   ]
  },
  {
   "cell_type": "code",
   "execution_count": null,
   "metadata": {},
   "outputs": [],
   "source": [
    "labels = open(\"../train/01_tcp_ar/00000005/s03_2010_10_02/00000005_s03_a00.lbl\", \"r\")\n",
    "labels = labels.read().split('\\n')\n",
    "for i, element in enumerate(labels):\n",
    "    if element == \"symbols[0] = {0: '(null)', 1: 'spsw', 2: 'gped', 3: 'pled', 4: 'eyem', 5: 'artf', 6: 'bckg', 7: 'seiz', 8: 'fnsz', 9: 'gnsz', 10: 'spsz', 11: 'cpsz', 12: 'absz', 13: 'tnsz', 14: 'cnsz', 15: 'tcsz', 16: 'atsz', 17: 'mysz'}\":\n",
    "        print(i)"
   ]
  },
  {
   "cell_type": "code",
   "execution_count": null,
   "metadata": {},
   "outputs": [],
   "source": [
    "def load_eeg_data(path):\n",
    "    f = pyedflib.EdfReader(path 'a00.edf')\n",
    "    n = f.signals_in_file\n",
    "    signal_labels = f.getSignalLabels()\n",
    "    sigbufs = np.zeros((n-3, f.getNSamples()[0]))\n",
    "    for i in np.arange(n-3):\n",
    "        sigbufs[i, :] = f.readSignal(i)\n",
    "    return sigbufs"
   ]
  },
  {
   "cell_type": "code",
   "execution_count": null,
   "metadata": {},
   "outputs": [],
   "source": [
    "class RNN(nn.Module):\n",
    "    def __init__(self):\n",
    "        super(RNN, self).__init__()\n",
    "        self.gru1 = nn.GRU(22, 32, num_layers = 1, batch_first = True)\n",
    "        self.affine1 = nn.Linear(15000, 1875)\n",
    "        self.gru2 = nn.GRU(32, 32, num_layers = 2, batch_first = True)\n",
    "        self.affine2 = nn.Linear(1875, 1)\n",
    "        self.gru3 = nn.GRU(32, 2, num_layers = 1, batch_first = True)\n",
    "        \n",
    "    def forward(self, x):\n",
    "        x = x.contiguous().view(64, 15000, 22)\n",
    "        x, _ = self.gru1(x)\n",
    "        x = x.contiguous().view(64, 32, 15000)\n",
    "        x = F.elu(self.affine1(x))\n",
    "        x = x.contiguous().view(64, 1875, 32)\n",
    "        x, _ = self.gru2(x)\n",
    "        x = x.contiguous().view(64, 32, 1875)\n",
    "        x = F.elu(self.affine2(x))\n",
    "        x = x.contiguous().view(64, 1, 32)\n",
    "        x, _ = self.gru3(x)\n",
    "        x = torch.squeeze(x, dim = 1)\n",
    "        x = F.softmax(x)\n",
    "        return x\n",
    "    \n",
    "class CRNN(nn.Module):\n",
    "    def __init__(self):\n",
    "        super(CRNN, self).__init__()\n",
    "        self.conv1 = nn.Conv1d(22, 32, 4, stride = 2, padding = 1)\n",
    "        self.conv2 = nn.Conv1d(32, 32, 4, stride = 2, padding = 1)\n",
    "        self.conv3 = nn.Conv1d(32, 32, 4, stride = 2, padding = 1)\n",
    "        self.gru1 = nn.GRU(32, 32, num_layers = 3, batch_first = True)\n",
    "        self.affine1 = nn.Linear(1875, 1)\n",
    "        self.gru2 = nn.GRU(32, 2, batch_first = True)\n",
    "    \n",
    "    def forward(self, x):\n",
    "        x = x.contiguous().view(64, 22, 15000)\n",
    "        x = F.elu(self.conv1(x))\n",
    "        x = F.elu(self.conv2(x))\n",
    "        x = F.elu(self.conv3(x))\n",
    "        x = x.contiguous().view(64, 1875, 32)\n",
    "        x, _ = self.gru1(x)\n",
    "        x = x.contiguous().view(64, 32, 1875)\n",
    "        x = F.elu(self.affine1(x))\n",
    "        x = x.contiguous().view(64, 1, 32)\n",
    "        x, _ = self.gru2(x)\n",
    "        x = torch.squeeze(x, dim = 1)\n",
    "        x = F.softmax(x)\n",
    "        return x\n",
    "    \n",
    "    \n",
    "class ICRNN(nn.Module):\n",
    "    def __init__(self):\n",
    "        super(ICRNN, self).__init__()\n",
    "        self.inception1 = Inception(22)\n",
    "        self.inception2 = Inception(96)\n",
    "        self.inception3 = Inception(96)\n",
    "        self.gru1 = nn.GRU(96, 32, num_layers = 3, batch_first = True)\n",
    "        self.affine1 = nn.Linear(1875, 1)\n",
    "        self.gru2 = nn.GRU(32, 2, batch_first = True)\n",
    "        \n",
    "    def forward(self, x):\n",
    "        x = x.contiguous().view(64, 22, 15000)\n",
    "        x = self.inception1(x)\n",
    "        x = self.inception2(x)\n",
    "        x = self.inception3(x)\n",
    "        x = x.contiguous().view(64, 1875, 96)\n",
    "        x, _ = self.gru1(x)\n",
    "        x = x.contiguous().view(64, 32, 1875)\n",
    "        x = self.affine1(x)\n",
    "        x = x.contiguous().view(64, 1, 32)\n",
    "        x, _ = self.gru2(x)\n",
    "        x = torch.squeeze(x, dim = 1)\n",
    "        x = F.softmax(x)\n",
    "        return x\n",
    "    \n",
    "    \n",
    "class Inception(nn.Module):\n",
    "    def __init__(self, in_channels):\n",
    "        super(Inception, self).__init__()\n",
    "        self.conv1 = nn.Conv1d(in_channels, 32, 4, stride = 2, padding = 1)\n",
    "        self.conv2 = nn.Conv1d(in_channels, 32, 2, stride = 2)\n",
    "        self.conv3 = nn.Conv1d(in_channels, 32, 8, stride = 2, padding = 3)\n",
    "        \n",
    "    def forward(self, x):\n",
    "        x1 = F.elu(self.conv1(x))\n",
    "        x2 = F.elu(self.conv2(x))\n",
    "        x3 = F.elu(self.conv3(x))\n",
    "        cat = [x1, x2, x3]\n",
    "        x = torch.cat(cat, dim=1)\n",
    "        return x        "
   ]
  },
  {
   "cell_type": "code",
   "execution_count": null,
   "metadata": {},
   "outputs": [],
   "source": []
  },
  {
   "cell_type": "code",
   "execution_count": null,
   "metadata": {},
   "outputs": [],
   "source": [
    "model = ICRNN()"
   ]
  },
  {
   "cell_type": "code",
   "execution_count": null,
   "metadata": {},
   "outputs": [],
   "source": [
    "a = torch.randn(64, 15000, 22)"
   ]
  },
  {
   "cell_type": "code",
   "execution_count": null,
   "metadata": {},
   "outputs": [],
   "source": [
    "output = model(a)\n",
    "output.size()"
   ]
  },
  {
   "cell_type": "code",
   "execution_count": null,
   "metadata": {},
   "outputs": [],
   "source": [
    "class DCRNN(nn.Module): #Densely connected convolutional recurrent neural network\n",
    "    def __init__(self):\n",
    "        super(DCRNN, self).__init__()\n",
    "        self.conv1 = nn.Conv1d(22, 32, 4, stride = 2, padding = 1)\n",
    "        self.conv2 = nn.Conv1d(32, 32, 4, stride = 2, padding = 1)\n",
    "        self.conv3 = nn.Conv1d(32, 32, 4, stride = 2, padding = 1)\n",
    "        self.gru1 = nn.GRU(32, 32, num_layers = 3, batch_first = True)\n",
    "        self.affine1 = nn.Linear(1875, 1)\n",
    "        self.gru2 = nn.GRU(32, 32, batch_first = True)\n",
    "        self.gru3 = nn.GRU(64, 32, batch_first = True)\n",
    "        self.gru4 = nn.GRU(96, 32, batch_first = True)\n",
    "    \n",
    "    def forward(self, x):\n",
    "        x = x.contiguous().view(64, 22, 15000)\n",
    "        x = F.elu(self.conv1(x))\n",
    "        x = F.elu(self.conv2(x))\n",
    "        x = F.elu(self.conv3(x))\n",
    "        x = x.contiguous().view(64, 1875, 32)\n",
    "        x, _ = self.gru1(x)\n",
    "        x_res = x\n",
    "        x, _ = self.gru2(x)\n",
    "        x_res2 = x\n",
    "        x_cat1 = torch.cat([x_res, x], dim = 2)\n",
    "        x, _ = self.gru3(x_cat1)\n",
    "        x = torch.cat([x_res, x_res2, x], dim = 2)\n",
    "        x = x.contiguous().view(64, 96, 1875)\n",
    "        x = F.elu(self.affine1(x))\n",
    "        x = x.contiguous().view(64, 1, 96)\n",
    "        x, _ = self.gru4(x)\n",
    "        x = torch.squeeze(x, dim = 1)\n",
    "        x = F.softmax(x)\n",
    "        return x\n",
    "    \n",
    "    \n",
    "class ChronoNet(nn.Module):\n",
    "    def __init__(self):\n",
    "        super(ChronoNet, self).__init__()\n",
    "        self.inception1 = Inception(22)\n",
    "        self.inception2 = Inception(96)\n",
    "        self.inception3 = Inception(96)\n",
    "        self.gru1 = nn.GRU(96, 32, num_layers = 1, batch_first = True)\n",
    "        self.affine1 = nn.Linear(1875, 1)\n",
    "        self.gru2 = nn.GRU(32, 32, batch_first = True)\n",
    "        self.gru3 = nn.GRU(64, 32, batch_first = True)\n",
    "        self.gru4 = nn.GRU(96, 2, batch_first = True)\n",
    "        \n",
    "    def forward(self, x):\n",
    "        x = x.contiguous().view(64, 22, 15000)\n",
    "        x = self.inception1(x)\n",
    "        x = self.inception2(x)\n",
    "        x = self.inception3(x)\n",
    "        x = x.contiguous().view(64, 1875, 96)\n",
    "        x, _ = self.gru1(x)\n",
    "        x_res = x\n",
    "        x, _ = self.gru2(x)\n",
    "        x_res2 = x\n",
    "        x_cat1 = torch.cat([x_res, x], dim = 2)\n",
    "        x, _ = self.gru3(x_cat1)\n",
    "        x = torch.cat([x_res, x_res2, x], dim = 2)\n",
    "        x = x.contiguous().view(64, 96, 1875)\n",
    "        x = F.elu(self.affine1(x))\n",
    "        x = x.contiguous().view(64, 1, 96)\n",
    "        x, _ = self.gru4(x)\n",
    "        x = torch.squeeze(x, dim = 1)\n",
    "        x = F.softmax(x)\n",
    "        return x\n",
    "    "
   ]
  },
  {
   "cell_type": "code",
   "execution_count": null,
   "metadata": {},
   "outputs": [],
   "source": [
    "dcrnn = ChronoNet()"
   ]
  },
  {
   "cell_type": "code",
   "execution_count": null,
   "metadata": {},
   "outputs": [],
   "source": [
    "a = torch.randn(64, 15000, 22)\n",
    "output = dcrnn(a)\n",
    "output.size()"
   ]
  },
  {
   "cell_type": "code",
   "execution_count": null,
   "metadata": {},
   "outputs": [],
   "source": [
    "from torch.utils.data.dataset import Dataset\n",
    "from torch.utils.data.dataloader import DataLoader\n",
    "\n",
    "class EEGDataset(Dataset):\n",
    "    def __init__(self, cycle, time=60):\n",
    "        self.time = time\n",
    "        if self.time is None:\n",
    "            self.concat = True\n",
    "        \n",
    "    def __getitem__(self, idx):\n",
    "        sample = self.pairs[idx]\n",
    "        initial = self.load_eeg_data(sample[0])\n",
    "        print(initial.shape)\n",
    "        eeg = self.concatenate(initial)\n",
    "        print(sample[1])\n",
    "        label = self.get_label(sample[1])\n",
    "        sample = {'eeg': eeg, 'label': label}\n",
    "        if self.transform is not None:\n",
    "            sample = self.transform(sample)\n",
    "        return sample\n",
    "\n",
    "    def get_pairs(self, cycle):\n",
    "        import os\n",
    "        edfs, tses = [], []\n",
    "        for root, dirs, files in os.walk(\"../\" + cycle + '/', topdown=False):\n",
    "            for name in files:\n",
    "                if name[-3:]=='edf':\n",
    "                    edfs.append(os.path.join(root, name))\n",
    "                if name[-3:]=='tse':\n",
    "                    tses.append(os.path.join(root, name))\n",
    "        edfs = sorted(edfs)\n",
    "        tses = sorted(tses)\n",
    "        pairs = list(zip(edfs, tses))\n",
    "        self.pairs = pairs\n",
    "    \n",
    "    def concatenate(self, eeg):\n",
    "        time = self.time*250\n",
    "        return eeg[:, :time]\n",
    "\n",
    "    def set_montage(self, eeg):\n",
    "        montaged = np.zeros_like(eeg)\n",
    "        montaged[0] += eeg[0] - eeg[10]\n",
    "        montaged[1] += eeg[10] - eeg[12]\n",
    "        montaged[2] += eeg[12] - eeg[14]\n",
    "        montaged[3] += eeg[14] - eeg[8]\n",
    "        montaged[4] += eeg[0] - eeg[2]\n",
    "        montaged[5] += eeg[2] - eeg[4]\n",
    "        montaged[6] += eeg[4] - eeg[6]\n",
    "        montaged[7] += eeg[6] - eeg[8]\n",
    "        montaged[8] += eeg[1] - eeg[3]\n",
    "        montaged[9] += eeg[3] - eeg[5]\n",
    "        montaged[10] += eeg[5] - eeg[7]\n",
    "        montaged[11] += eeg[7] - eeg[9]\n",
    "        montaged[12] += eeg[1] - eeg[11]\n",
    "        montaged[13] += eeg[11] - eeg[13]\n",
    "        montaged[14] += eeg[13] - eeg[15]\n",
    "        montaged[15] += eeg[15] - eeg[9]\n",
    "        montaged[16] += eeg[16] - eeg[12]\n",
    "        montaged[17] += eeg[12] - eeg[4]\n",
    "        montaged[18] += eeg[4] - eeg[19]\n",
    "        montaged[19] += eeg[19] - eeg[5]\n",
    "        montaged[20] += eeg[5] - eeg[13]\n",
    "        montaged[21] += eeg[13] - eeg[17]\n",
    "        return montage\n",
    "        \n",
    "    def load_eeg_data(self, path):\n",
    "        f = pyedflib.EdfReader(path)\n",
    "        n = f.signals_in_file\n",
    "        signal_labels = f.getSignalLabels()\n",
    "        for i, element in enumerate(reversed(signal_labels)):\n",
    "            if element[:6]=='EEG T2':\n",
    "                n = len(signal_labels) - i - 1\n",
    "        sigbufs = np.zeros((n, f.getNSamples()[0]))\n",
    "        for i in np.arange(n):\n",
    "            sigbufs[i, :] = f.readSignal(i)\n",
    "        return sigbufs\n",
    "    \n",
    "    def get_label(self, tse):\n",
    "        tse_labels = open(\"../train/02_tcp_le/00002936/s05_2003_01_07/00002936_s05_a01.tse\", \"r\")\n",
    "        tse_labels = tse_labels.read()\n",
    "        tse_labels = tse_labels.split('\\n')\n",
    "    "
   ]
  },
  {
   "cell_type": "code",
   "execution_count": null,
   "metadata": {},
   "outputs": [],
   "source": [
    "#dict(zip(np.arange(0, len(signal_labels)), signal_labels))\n",
    "data = EEGDataset('train')\n",
    "data.get_pairs('train')"
   ]
  },
  {
   "cell_type": "code",
   "execution_count": null,
   "metadata": {},
   "outputs": [],
   "source": [
    "data.__getitem__(0)"
   ]
  },
  {
   "cell_type": "code",
   "execution_count": null,
   "metadata": {},
   "outputs": [],
   "source": [
    "for i, element in enumerate(data_loader):\n"
   ]
  },
  {
   "cell_type": "code",
   "execution_count": null,
   "metadata": {},
   "outputs": [],
   "source": []
  }
 ],
 "metadata": {
  "kernelspec": {
   "display_name": "Python 3",
   "language": "python",
   "name": "python3"
  },
  "language_info": {
   "codemirror_mode": {
    "name": "ipython",
    "version": 3
   },
   "file_extension": ".py",
   "mimetype": "text/x-python",
   "name": "python",
   "nbconvert_exporter": "python",
   "pygments_lexer": "ipython3",
   "version": "3.8.2"
  }
 },
 "nbformat": 4,
 "nbformat_minor": 2
}
